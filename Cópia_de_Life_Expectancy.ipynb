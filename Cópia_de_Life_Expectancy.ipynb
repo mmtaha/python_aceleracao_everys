{
  "nbformat": 4,
  "nbformat_minor": 0,
  "metadata": {
    "colab": {
      "provenance": [],
      "include_colab_link": true
    },
    "kernelspec": {
      "display_name": "Python 3",
      "name": "python3"
    }
  },
  "cells": [
    {
      "cell_type": "markdown",
      "metadata": {
        "id": "view-in-github",
        "colab_type": "text"
      },
      "source": [
        "<a href=\"https://colab.research.google.com/github/mmtaha/python_aceleracao_everys/blob/main/C%C3%B3pia_de_Life_Expectancy.ipynb\" target=\"_parent\"><img src=\"https://colab.research.google.com/assets/colab-badge.svg\" alt=\"Open In Colab\"/></a>"
      ]
    },
    {
      "cell_type": "markdown",
      "metadata": {
        "id": "XoGmAo02VD2B"
      },
      "source": [
        "# Exercício"
      ]
    },
    {
      "cell_type": "markdown",
      "metadata": {
        "id": "EbKeSqr6VHyh"
      },
      "source": [
        "Utilizar o dataset `Life Expectancy` do [Kaggle](https://www.kaggle.com/kumarajarshi/life-expectancy-who) da World Health Organization.\n",
        "O objetivo é realizar a predição da expectativa de vida, utilizando as variáveis disponíveis no Dataset."
      ]
    },
    {
      "cell_type": "markdown",
      "metadata": {
        "id": "Q13hLAZ1VpMV"
      },
      "source": [
        "### Obtendo os dados\n",
        "\n",
        "Os dados podem ser obtidos na [página da competição](https://www.kaggle.com/kumarajarshi/life-expectancy-who), ou do link do dropbox com o comando abaixo:"
      ]
    },
    {
      "cell_type": "code",
      "metadata": {
        "colab": {
          "base_uri": "https://localhost:8080/"
        },
        "id": "lIYdn1woOS1n",
        "outputId": "77649741-c2eb-4565-eace-b20bf5cf7f6a"
      },
      "source": [
        "!wget -c https://www.dropbox.com/s/y6e7kky6rpr25jv/Life%20Expectancy%20Data.csv?dl=0 -O life_expectancy.csv"
      ],
      "execution_count": null,
      "outputs": [
        {
          "output_type": "stream",
          "name": "stdout",
          "text": [
            "--2023-11-16 21:49:33--  https://www.dropbox.com/s/y6e7kky6rpr25jv/Life%20Expectancy%20Data.csv?dl=0\n",
            "Resolving www.dropbox.com (www.dropbox.com)... 162.125.3.18, 2620:100:6018:18::a27d:312\n",
            "Connecting to www.dropbox.com (www.dropbox.com)|162.125.3.18|:443... connected.\n",
            "HTTP request sent, awaiting response... 302 Found\n",
            "Location: /s/raw/y6e7kky6rpr25jv/Life%20Expectancy%20Data.csv [following]\n",
            "--2023-11-16 21:49:33--  https://www.dropbox.com/s/raw/y6e7kky6rpr25jv/Life%20Expectancy%20Data.csv\n",
            "Reusing existing connection to www.dropbox.com:443.\n",
            "HTTP request sent, awaiting response... 302 Found\n",
            "Location: https://uc11a48556ae6186cc8cc0147a2f.dl.dropboxusercontent.com/cd/0/inline/CHoAWU6OkWMa5wkyUxAsjORu1m3im5WnyibrnE16zi0B9bXCf_NPRmlNiCpgWmHnHMxcn8SG89UQnhVT-HT0tComQJmx_7CnceAeORdnky6xH4MYz8soOSCHZdVVHfxJ_8w/file# [following]\n",
            "--2023-11-16 21:49:34--  https://uc11a48556ae6186cc8cc0147a2f.dl.dropboxusercontent.com/cd/0/inline/CHoAWU6OkWMa5wkyUxAsjORu1m3im5WnyibrnE16zi0B9bXCf_NPRmlNiCpgWmHnHMxcn8SG89UQnhVT-HT0tComQJmx_7CnceAeORdnky6xH4MYz8soOSCHZdVVHfxJ_8w/file\n",
            "Resolving uc11a48556ae6186cc8cc0147a2f.dl.dropboxusercontent.com (uc11a48556ae6186cc8cc0147a2f.dl.dropboxusercontent.com)... 162.125.4.15, 2620:100:6019:15::a27d:40f\n",
            "Connecting to uc11a48556ae6186cc8cc0147a2f.dl.dropboxusercontent.com (uc11a48556ae6186cc8cc0147a2f.dl.dropboxusercontent.com)|162.125.4.15|:443... connected.\n",
            "HTTP request sent, awaiting response... 200 OK\n",
            "Length: 333442 (326K) [text/plain]\n",
            "Saving to: ‘life_expectancy.csv’\n",
            "\n",
            "life_expectancy.csv 100%[===================>] 325.63K  1.77MB/s    in 0.2s    \n",
            "\n",
            "2023-11-16 21:49:34 (1.77 MB/s) - ‘life_expectancy.csv’ saved [333442/333442]\n",
            "\n"
          ]
        }
      ]
    },
    {
      "cell_type": "code",
      "metadata": {
        "id": "yjKXy_X4TqdY",
        "colab": {
          "base_uri": "https://localhost:8080/"
        },
        "outputId": "c0eb9095-8169-4047-ee54-0a5c980a1655"
      },
      "source": [
        "!head -10 life_expectancy.csv"
      ],
      "execution_count": null,
      "outputs": [
        {
          "output_type": "stream",
          "name": "stdout",
          "text": [
            "Country,Year,Status,Life expectancy ,Adult Mortality,infant deaths,Alcohol,percentage expenditure,Hepatitis B,Measles , BMI ,under-five deaths ,Polio,Total expenditure,Diphtheria , HIV/AIDS,GDP,Population, thinness  1-19 years, thinness 5-9 years,Income composition of resources,Schooling\r\n",
            "Afghanistan,2015,Developing,65,263,62,0.01,71.27962362,65,1154,19.1,83,6,8.16,65,0.1,584.25921,33736494,17.2,17.3,0.479,10.1\r\n",
            "Afghanistan,2014,Developing,59.9,271,64,0.01,73.52358168,62,492,18.6,86,58,8.18,62,0.1,612.696514,327582,17.5,17.5,0.476,10\r\n",
            "Afghanistan,2013,Developing,59.9,268,66,0.01,73.21924272,64,430,18.1,89,62,8.13,64,0.1,631.744976,31731688,17.7,17.7,0.47,9.9\r\n",
            "Afghanistan,2012,Developing,59.5,272,69,0.01,78.1842153,67,2787,17.6,93,67,8.52,67,0.1,669.959,3696958,17.9,18,0.463,9.8\r\n",
            "Afghanistan,2011,Developing,59.2,275,71,0.01,7.097108703,68,3013,17.2,97,68,7.87,68,0.1,63.537231,2978599,18.2,18.2,0.454,9.5\r\n",
            "Afghanistan,2010,Developing,58.8,279,74,0.01,79.67936736,66,1989,16.7,102,66,9.2,66,0.1,553.32894,2883167,18.4,18.4,0.448,9.2\r\n",
            "Afghanistan,2009,Developing,58.6,281,77,0.01,56.76221682,63,2861,16.2,106,63,9.42,63,0.1,445.8932979,284331,18.6,18.7,0.434,8.9\r\n",
            "Afghanistan,2008,Developing,58.1,287,80,0.03,25.87392536,64,1599,15.7,110,64,8.33,64,0.1,373.3611163,2729431,18.8,18.9,0.433,8.7\r\n",
            "Afghanistan,2007,Developing,57.5,295,82,0.02,10.91015598,63,1141,15.2,113,63,6.73,63,0.1,369.835796,26616792,19,19.1,0.415,8.4\r\n"
          ]
        }
      ]
    },
    {
      "cell_type": "markdown",
      "metadata": {
        "id": "ki1WzXZPV5Uc"
      },
      "source": [
        "### Atividades\n",
        "\n",
        "1. Criar Máquina virtual utilizando o serviço EC2 da Amazon AWS - utilizar Ubuntu como Sistema Operacional;\n",
        "1. Instalar o gerenciador de ambientes Miniconda, utilizando o [link](https://repo.anaconda.com/miniconda/Miniconda3-latest-Linux-x86_64.sh).\n",
        "  1. [Referência para a criação e gerência de ambientes `conda`](https://conda.io/projects/conda/en/latest/user-guide/getting-started.html)\n",
        "1. Instalar dependências necessárias para a Regressão;\n",
        "1. Fazer a Instalação do `Jupyter notebook` utilizando a ferramenta `conda`;\n",
        "  1. Lembre-se que, para permitir o acesso ao servidor Jupyter, você precisa configurar uma regra de firewall permitindo o acesso a porta 8888 ([Referência](https://stackoverflow.com/a/17182531))\n",
        "  1. Além disso, o servidor jupyter deve ser inicializado de modo a permitir conexões vindo de qualquer endereço, i.e., utilizar o parâmetro `--ip=0.0.0.0`\n",
        "1. Fazer o upload deste notebook para o servidor Jupyter recém instalado;\n",
        "1. Alterar Notebook na Seção \"Solução\" com passo a passo em Python ou R para realizar a predição da Expectativa de Vida. Dessa vez, você terá que fazer a separação do dataset em uma partição de treino e uma de teste;\n",
        "  * Você pode comparar resultados entre países diferentes. Para fazer a seleção por país, consultar esse [link](https://www.geeksforgeeks.org/selecting-rows-in-pandas-dataframe-based-on-conditions/).\n",
        "1. Realizar o upload do notebook contendo a solução no blackboard."
      ]
    },
    {
      "cell_type": "markdown",
      "metadata": {
        "id": "n2jWJWC9TvZc"
      },
      "source": [
        "## Solução\n",
        "O passo a passo da sua solução deve vir abaixo dessa Seção."
      ]
    },
    {
      "cell_type": "code",
      "metadata": {
        "id": "ynOD_4v8XEEl"
      },
      "source": [],
      "execution_count": null,
      "outputs": []
    }
  ]
}